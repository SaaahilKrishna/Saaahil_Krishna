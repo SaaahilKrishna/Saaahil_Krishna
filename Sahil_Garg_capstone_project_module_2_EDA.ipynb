{
  "nbformat": 4,
  "nbformat_minor": 0,
  "metadata": {
    "colab": {
      "private_outputs": true,
      "provenance": [],
      "collapsed_sections": [
        "vncDsAP0Gaoa",
        "FJNUwmbgGyua",
        "w6K7xa23Elo4",
        "yQaldy8SH6Dl",
        "PH-0ReGfmX4f",
        "mDgbUHAGgjLW",
        "O_i_v8NEhb9l",
        "HhfV-JJviCcP",
        "Y3lxredqlCYt",
        "3RnN4peoiCZX",
        "x71ZqKXriCWQ",
        "7hBIi_osiCS2",
        "JlHwYmJAmNHm",
        "35m5QtbWiB9F",
        "PoPl-ycgm1ru",
        "H0kj-8xxnORC",
        "nA9Y7ga8ng1Z",
        "PBTbrJXOngz2",
        "u3PMJOP6ngxN",
        "dauF4eBmngu3",
        "bKJF3rekwFvQ",
        "MSa1f5Uengrz",
        "GF8Ens_Soomf",
        "0wOQAZs5pc--",
        "K5QZ13OEpz2H",
        "lQ7QKXXCp7Bj",
        "448CDAPjqfQr",
        "KSlN3yHqYklG",
        "t6dVpIINYklI",
        "ijmpgYnKYklI",
        "-JiQyfWJYklI",
        "EM7whBJCYoAo",
        "fge-S5ZAYoAp",
        "85gYPyotYoAp",
        "RoGjAbkUYoAp",
        "4Of9eVA-YrdM",
        "iky9q4vBYrdO",
        "F6T5p64dYrdO",
        "y-Ehk30pYrdP",
        "bamQiAODYuh1",
        "QHF8YVU7Yuh3",
        "GwzvFGzlYuh3",
        "qYpmQ266Yuh3",
        "OH-pJp9IphqM",
        "bbFf2-_FphqN",
        "_ouA3fa0phqN",
        "Seke61FWphqN",
        "PIIx-8_IphqN",
        "t27r6nlMphqO",
        "r2jJGEOYphqO",
        "b0JNsNcRphqO",
        "BZR9WyysphqO",
        "jj7wYXLtphqO",
        "eZrbJ2SmphqO",
        "rFu4xreNphqO",
        "YJ55k-q6phqO",
        "gCFgpxoyphqP",
        "OVtJsKN_phqQ",
        "lssrdh5qphqQ",
        "U2RJ9gkRphqQ",
        "1M8mcRywphqQ",
        "tgIPom80phqQ",
        "JMzcOPDDphqR",
        "x-EpHcCOp1ci",
        "X_VqEhTip1ck",
        "8zGJKyg5p1ck",
        "PVzmfK_Ep1ck",
        "n3dbpmDWp1ck",
        "ylSl6qgtp1ck",
        "ZWILFDl5p1ck",
        "M7G43BXep1ck",
        "Ag9LCva-p1cl",
        "E6MkPsBcp1cl",
        "2cELzS2fp1cl",
        "3MPXvC8up1cl",
        "NC_X3p0fY2L0",
        "UV0SzAkaZNRQ",
        "YPEH6qLeZNRQ",
        "q29F0dvdveiT",
        "EXh0U9oCveiU",
        "22aHeOlLveiV",
        "JcMwzZxoAimU",
        "8G2x9gOozGDZ",
        "gCX9965dhzqZ",
        "gIfDvo9L0UH2"
      ]
    },
    "kernelspec": {
      "name": "python3",
      "display_name": "Python 3"
    },
    "language_info": {
      "name": "python"
    }
  },
  "cells": [
    {
      "cell_type": "markdown",
      "source": [
        "# **Project Name**    - **Hotel Booking Analysis of Booking.com**\n"
      ],
      "metadata": {
        "id": "vncDsAP0Gaoa"
      }
    },
    {
      "cell_type": "markdown",
      "source": [
        "##### **Project Type**    - EDA\n",
        "##### **Contribution**    - Individual\n"
      ],
      "metadata": {
        "id": "beRrZCGUAJYm"
      }
    },
    {
      "cell_type": "markdown",
      "source": [
        "# **Project Summary -**"
      ],
      "metadata": {
        "id": "FJNUwmbgGyua"
      }
    },
    {
      "cell_type": "markdown",
      "source": [
        "**Project Summary: Booking.com Data Analysis**\n",
        "This project focuses on analyzing a comprehensive dataset from Booking.com, one of the leading global platforms in the travel and hospitality industry. The dataset includes key information about hotel bookings, such as lead times, arrival dates, room types, meal plans, booking channels, and customer preferences. It aims to uncover valuable insights that can enhance customer experience, optimize booking efficiency, and drive revenue growth.\n",
        "\n",
        "**Key Objectives:**\n",
        "**Booking Efficiency:** Analyze the impact of booking windows (lead time), reservation statuses, and booking channels on hotel performance to optimize the booking process and maximize occupancy.\n",
        "\n",
        "**Customer Demographics:**  Understand customer profiles, such as family sizes, meal preferences, and special requests, to tailor services and offerings that better meet guest needs.\n",
        "\n",
        "**Revenue Optimization: **Identify trends in Average Daily Rate (ADR) and room types to implement dynamic pricing strategies and maximize profitability.\n",
        "\n",
        "**Operational Streamlining:** Leverage data to streamline processes, such as managing room assignments, handling cancellations, and adjusting inventory in response to demand fluctuations.\n",
        "\n",
        "**Strategic Benefits:**\n",
        "Predicting Guest Behavior: By analyzing booking lead times and patterns, the company can predict customer needs and behavior, allowing for proactive service improvements.\n",
        "**Market Segmentation:** The dataset allows for a detailed segmentation of the market, helping Booking.com offer personalized recommendations and targeted marketing campaigns.\n",
        "Enhanced Customer Satisfaction: By better understanding customer preferences, the platform can fine-tune services and enhance the guest experience, driving loyalty.\n",
        "Overall, this data analysis empowers Booking.com to remain competitive in the hospitality sector by leveraging data-driven strategies to optimize its services and operations.\n",
        "\n",
        "\n",
        "\n",
        "\n",
        "\n",
        "\n",
        "\n",
        "\n",
        "\n",
        "\n",
        "\n"
      ],
      "metadata": {
        "id": "F6v_1wHtG2nS"
      }
    },
    {
      "cell_type": "markdown",
      "source": [
        "# **GitHub Link -**"
      ],
      "metadata": {
        "id": "w6K7xa23Elo4"
      }
    },
    {
      "cell_type": "markdown",
      "source": [
        "Provide your GitHub Link here."
      ],
      "metadata": {
        "id": "h1o69JH3Eqqn"
      }
    },
    {
      "cell_type": "markdown",
      "source": [
        "# **Problem Statement**\n"
      ],
      "metadata": {
        "id": "yQaldy8SH6Dl"
      }
    },
    {
      "cell_type": "markdown",
      "source": [
        "In a highly competitive travel and hospitality industry, platforms like Booking.com must continually refine their booking processes to meet evolving customer expectations and maximize revenue. With a large volume of data available, including lead times, room types, meal plans, special requests, and booking channels, there is a need to efficiently analyze this data to uncover actionable insights.\n",
        "\n",
        "The key challenges addressed in this project are:\n",
        "\n",
        "**Booking Process Optimization:** How can Booking.com improve the efficiency of the booking process by analyzing factors such as lead time, booking channels, and customer demographics?\n",
        "\n",
        "**Revenue Growth:** How can trends in Average Daily Rate (ADR) and customer booking behavior be used to implement dynamic pricing strategies to maximize profitability?\n",
        "\n",
        "**Customer Experience Enhancement:** How can insights from customer preferences (room types, meal plans, special requests) be leveraged to offer personalized services that enhance guest satisfaction and drive loyalty?\n",
        "\n",
        "By solving these challenges through data analysis, Booking.com can streamline operations, improve occupancy rates, and deliver superior service, ensuring its continued success in the competitive hospitality market."
      ],
      "metadata": {
        "id": "DpeJGUA3kjGy"
      }
    },
    {
      "cell_type": "markdown",
      "source": [
        "#### **Define Your Business Objective?**"
      ],
      "metadata": {
        "id": "PH-0ReGfmX4f"
      }
    },
    {
      "cell_type": "markdown",
      "source": [
        "**Optimizing Booking Efficiency and Enhancing Customer Experience**\n",
        "\n",
        "The primary business objective of this project is to enhance operational efficiency and customer satisfaction for Booking.com through data-driven decision-making. By analyzing various booking factors—such as lead time, reservation types, customer demographics, and booking channels—the goal is to:\n",
        "\n",
        "**Increase Revenue:** Implement dynamic pricing strategies based on insights from room type demand and Average Daily Rate (ADR) to maximize profitability.\n",
        "\n",
        "**Optimize Occupancy Rates:** Utilize booking window and customer behavior data to adjust room inventory and pricing in real-time, ensuring maximum room utilization.\n",
        "\n",
        "Improve Customer Experience: Tailor services and marketing campaigns to better meet guest preferences (e.g., room types, meal plans, special requests), driving customer loyalty and satisfaction."
      ],
      "metadata": {
        "id": "PhDvGCAqmjP1"
      }
    },
    {
      "cell_type": "markdown",
      "source": [
        "# **General Guidelines** : -  "
      ],
      "metadata": {
        "id": "mDgbUHAGgjLW"
      }
    },
    {
      "cell_type": "markdown",
      "source": [
        "1.   Well-structured, formatted, and commented code is required.\n",
        "2.   Exception Handling, Production Grade Code & Deployment Ready Code will be a plus. Those students will be awarded some additional credits.\n",
        "     \n",
        "     The additional credits will have advantages over other students during Star Student selection.\n",
        "       \n",
        "             [ Note: - Deployment Ready Code is defined as, the whole .ipynb notebook should be executable in one go\n",
        "                       without a single error logged. ]\n",
        "\n",
        "3.   Each and every logic should have proper comments.\n",
        "4. You may add as many number of charts you want. Make Sure for each and every chart the following format should be answered.\n",
        "        \n",
        "\n",
        "```\n",
        "# Chart visualization code\n",
        "```\n",
        "            \n",
        "\n",
        "*   Why did you pick the specific chart?\n",
        "*   What is/are the insight(s) found from the chart?\n",
        "* Will the gained insights help creating a positive business impact?\n",
        "Are there any insights that lead to negative growth? Justify with specific reason.\n",
        "\n",
        "5. You have to create at least 20 logical & meaningful charts having important insights.\n",
        "\n",
        "\n",
        "[ Hints : - Do the Vizualization in  a structured way while following \"UBM\" Rule.\n",
        "\n",
        "U - Univariate Analysis,\n",
        "\n",
        "B - Bivariate Analysis (Numerical - Categorical, Numerical - Numerical, Categorical - Categorical)\n",
        "\n",
        "M - Multivariate Analysis\n",
        " ]\n",
        "\n",
        "\n",
        "\n"
      ],
      "metadata": {
        "id": "ZrxVaUj-hHfC"
      }
    },
    {
      "cell_type": "markdown",
      "source": [
        "# ***Let's Begin !***"
      ],
      "metadata": {
        "id": "O_i_v8NEhb9l"
      }
    },
    {
      "cell_type": "markdown",
      "source": [
        "## ***1. Know Your Data***"
      ],
      "metadata": {
        "id": "HhfV-JJviCcP"
      }
    },
    {
      "cell_type": "markdown",
      "source": [
        "### Import Libraries"
      ],
      "metadata": {
        "id": "Y3lxredqlCYt"
      }
    },
    {
      "cell_type": "code",
      "source": [
        "# Import Libraries\n",
        "import numpy as np\n",
        "import pandas as pd\n",
        "import datetime as dt\n",
        "from numpy import math\n",
        "import seaborn as sns\n",
        "import matplotlib.pyplot as plt\n",
        "import warnings\n",
        "warnings.filterwarnings('ignore')\n"
      ],
      "metadata": {
        "id": "M8Vqi-pPk-HR"
      },
      "execution_count": null,
      "outputs": []
    },
    {
      "cell_type": "markdown",
      "source": [
        "### Dataset Loading"
      ],
      "metadata": {
        "id": "3RnN4peoiCZX"
      }
    },
    {
      "cell_type": "code",
      "source": [
        "from google.colab import drive\n",
        "drive.mount('/content/drive')"
      ],
      "metadata": {
        "id": "Z__mHmOMgley"
      },
      "execution_count": null,
      "outputs": []
    },
    {
      "cell_type": "code",
      "source": [
        "# Load Dataset\n",
        "df = pd.read_csv('/content/drive/MyDrive/Hotel Bookings.csv')"
      ],
      "metadata": {
        "id": "4CkvbW_SlZ_R"
      },
      "execution_count": null,
      "outputs": []
    },
    {
      "cell_type": "markdown",
      "source": [
        "### Dataset First View"
      ],
      "metadata": {
        "id": "x71ZqKXriCWQ"
      }
    },
    {
      "cell_type": "code",
      "source": [
        "# Dataset First Look\n",
        "df"
      ],
      "metadata": {
        "id": "LWNFOSvLl09H"
      },
      "execution_count": null,
      "outputs": []
    },
    {
      "cell_type": "code",
      "source": [
        "df.head()"
      ],
      "metadata": {
        "id": "WCTJpLOxTV3F"
      },
      "execution_count": null,
      "outputs": []
    },
    {
      "cell_type": "code",
      "source": [
        "df.tail()"
      ],
      "metadata": {
        "id": "d_u65MQeTXkR"
      },
      "execution_count": null,
      "outputs": []
    },
    {
      "cell_type": "markdown",
      "source": [
        "### Dataset Rows & Columns count"
      ],
      "metadata": {
        "id": "7hBIi_osiCS2"
      }
    },
    {
      "cell_type": "code",
      "source": [
        "# Dataset Rows & Columns count\n",
        "df.shape"
      ],
      "metadata": {
        "id": "Kllu7SJgmLij"
      },
      "execution_count": null,
      "outputs": []
    },
    {
      "cell_type": "code",
      "source": [
        "# here we have 119390 rows and 32 columns in our data set."
      ],
      "metadata": {
        "id": "CO9ZrQ2JTn-5"
      },
      "execution_count": null,
      "outputs": []
    },
    {
      "cell_type": "markdown",
      "source": [
        "### Dataset Information"
      ],
      "metadata": {
        "id": "JlHwYmJAmNHm"
      }
    },
    {
      "cell_type": "code",
      "source": [
        "# Dataset Info\n",
        "df.info()"
      ],
      "metadata": {
        "id": "e9hRXRi6meOf"
      },
      "execution_count": null,
      "outputs": []
    },
    {
      "cell_type": "markdown",
      "source": [
        "#### Duplicate Values"
      ],
      "metadata": {
        "id": "35m5QtbWiB9F"
      }
    },
    {
      "cell_type": "code",
      "source": [
        "# Dataset Duplicate Value Count\n",
        "df.duplicated().sum()"
      ],
      "metadata": {
        "id": "1sLdpKYkmox0"
      },
      "execution_count": null,
      "outputs": []
    },
    {
      "cell_type": "markdown",
      "source": [
        "#### Missing Values/Null Values"
      ],
      "metadata": {
        "id": "PoPl-ycgm1ru"
      }
    },
    {
      "cell_type": "code",
      "source": [
        "# Missing Values/Null Values Count\n",
        "df.isnull().sum()"
      ],
      "metadata": {
        "id": "GgHWkxvamxVg"
      },
      "execution_count": null,
      "outputs": []
    },
    {
      "cell_type": "code",
      "source": [
        "# here we have 4 null values in children , 488 null values in country column ,\n",
        "# 16340 null values in agent column , 112593 null values in company column"
      ],
      "metadata": {
        "id": "qFu5GyTKUYDR"
      },
      "execution_count": null,
      "outputs": []
    },
    {
      "cell_type": "code",
      "source": [
        "sns.heatmap(df.isnull(), cbar=False)\n",
        "plt.show()"
      ],
      "metadata": {
        "id": "wgyX6LpIZb99"
      },
      "execution_count": null,
      "outputs": []
    },
    {
      "cell_type": "markdown",
      "source": [
        "### What did you know about your dataset?"
      ],
      "metadata": {
        "id": "H0kj-8xxnORC"
      }
    },
    {
      "cell_type": "markdown",
      "source": [
        "The dataset given is a dataset from online travel agency and accommodation booking platform popularly known as Booking.com, and we have to analysis the hotel bookings done by customers from various countries through the platform and find the insights behind it.\n",
        "\n",
        "In the competitive landscape of travel and accommodation, booking.com  continuously refine their booking processes to enhance customer satisfaction and optimize revenue. By analyzing this data, the aim is to improve booking efficiency, predict guest needs, and tailor offerings to better meet market demands.\n",
        "\n",
        "The above dataset has 119390 rows and 32 columns. There are 16340 null values in agent column , 4 null values in children , 488 null values in country column as well as 112593 null values in the company column. There are 31994 duplicate values in the dataset\n"
      ],
      "metadata": {
        "id": "gfoNAAC-nUe_"
      }
    },
    {
      "cell_type": "markdown",
      "source": [
        "## ***2. Understanding Your Variables***"
      ],
      "metadata": {
        "id": "nA9Y7ga8ng1Z"
      }
    },
    {
      "cell_type": "code",
      "source": [
        "# Dataset Columns\n",
        "df.columns"
      ],
      "metadata": {
        "id": "j7xfkqrt5Ag5"
      },
      "execution_count": null,
      "outputs": []
    },
    {
      "cell_type": "code",
      "source": [
        "# Dataset Describe\n",
        "df.describe()"
      ],
      "metadata": {
        "id": "DnOaZdaE5Q5t"
      },
      "execution_count": null,
      "outputs": []
    },
    {
      "cell_type": "markdown",
      "source": [
        "### Variables Description"
      ],
      "metadata": {
        "id": "PBTbrJXOngz2"
      }
    },
    {
      "cell_type": "markdown",
      "source": [
        "* **hotel                    :** Name of the hotel booked\n",
        "* **is_canceled              :**\n",
        "* **lead_time                :**\n",
        "* **arrival_date_year        :** Year for which booking is made\n",
        "* **arrival_date_month       :** Month for which booking is made\n",
        "* **arrival_date_week_number :**Week number for which booking is made out of 52 weeks\n",
        "* **arrival_date_day_of_month:** Date of month for which booking is made\n",
        "* **stays_in_weekend_nights  :** Total nights booked for weekend\n",
        "* **stays_in_week_nights     :**Total nights booked for week days\n",
        "* **adults                   :** Total adults under the booking made\n",
        "* **children                 :**Total children under the booking made\n",
        "* **babies                   :**Total babies under the booking made\n",
        "* **meal                     :** What type of meal is booked with the booking either it is BB( Bed and Breakfast) or HB (Half Board) or FB (Full Board) or SC (Self Catering) and undefined\n",
        "* **country                  :** Country of origin of the lead guest\n",
        "* **market_segment           :** Booking made by online (TA) travel agency or offline Travel Agent, Corporate booking or Direct Booking , Aviation booking etc\n",
        "* **distribution_channel     :**\n",
        "* **is_repeated_guest        :** Has the guest stayed before\n",
        "* **previous_cancellations   :** Total previous bookings that have been canceled\n",
        "* **previous_bookings_not_canceled  :** Total previous bookings that have not been canceled\n",
        "* **reserved_room_type       :** Category of room booked (A,B,C,D,E,F,G,H,L,P)\n",
        "* **assigned_room_type       :** Category of room Alloted\n",
        "* **booking_changes          :** Count of changes made in the booking\n",
        "* **deposit_type             :** Refundale , Non refundable or No deposit booing\n",
        "* **agent                    :** Booked through which agent\n",
        "* **company                  :** Booked through which company\n",
        "* **days_in_waiting_list     :** How many days in waiting list\n",
        "* **customer_type            :** Transient,Contract,Transient-Party or a Group\n",
        "* **adr                      :** Average Daily Rate of the hotel\n",
        "* **required_car_parking_spaces:** If car parking is required\n",
        "* **total_of_special_requests:** Any special Requests by the guests\n",
        "* **reservation_status       :** Checked-Out or Canceled or No-Show\n",
        "* **reservation_status_date  :** Date of specific status"
      ],
      "metadata": {
        "id": "aJV4KIxSnxay"
      }
    },
    {
      "cell_type": "markdown",
      "source": [
        "### Check Unique Values for each variable."
      ],
      "metadata": {
        "id": "u3PMJOP6ngxN"
      }
    },
    {
      "cell_type": "code",
      "source": [
        "# Check Unique Values for each variable.\n",
        "# firstly checking unoque varibales in all categorical columns\n",
        "cat_col = df.select_dtypes(include = ['object'])\n",
        "for x in cat_col :\n",
        "  print(df[x].unique())"
      ],
      "metadata": {
        "id": "zms12Yq5n-jE"
      },
      "execution_count": null,
      "outputs": []
    },
    {
      "cell_type": "code",
      "source": [
        "# unique values in numerical columns\n",
        "num_col = df.select_dtypes(include= ['int64' , 'float64'])\n",
        "for i in num_col:\n",
        "  print(df[i].unique())"
      ],
      "metadata": {
        "id": "9AWFSpPHuXCY"
      },
      "execution_count": null,
      "outputs": []
    },
    {
      "cell_type": "markdown",
      "source": [
        "## 3. ***Data Wrangling***"
      ],
      "metadata": {
        "id": "dauF4eBmngu3"
      }
    },
    {
      "cell_type": "markdown",
      "source": [
        "### Data Wrangling Code"
      ],
      "metadata": {
        "id": "bKJF3rekwFvQ"
      }
    },
    {
      "cell_type": "code",
      "source": [
        "# Write your code to make your dataset analysis ready.\n",
        "# handling the missing values\n",
        "df.isnull().sum()"
      ],
      "metadata": {
        "id": "wk-9a2fpoLcV"
      },
      "execution_count": null,
      "outputs": []
    },
    {
      "cell_type": "code",
      "source": [
        "#finding the data type of the columns having missing values\n",
        "null_col = ['agent' , 'children', 'company' , 'country']\n",
        "for i in null_col:\n",
        "  print(df[i].dtypes)"
      ],
      "metadata": {
        "id": "u_Vf8CkKw6Vj"
      },
      "execution_count": null,
      "outputs": []
    },
    {
      "cell_type": "code",
      "source": [
        "# filling the missing values present in the data with data type float with mean or median after checking the skewness\n",
        "df['agent'].skew()"
      ],
      "metadata": {
        "id": "Kcm956Xfwdsv"
      },
      "execution_count": null,
      "outputs": []
    },
    {
      "cell_type": "markdown",
      "source": [
        "if the skewness is more than 1 it is positively skewed meaning the distribution of data is right-skewed.\n",
        "Therefore the best central tendency here will be to find median."
      ],
      "metadata": {
        "id": "bEHV05JAyinj"
      }
    },
    {
      "cell_type": "code",
      "source": [
        "# same skewness can be shown with the histogram also\n",
        "sns.histplot(df , x = 'agent' , bins = 10 , kde = True)\n",
        "plt.show()"
      ],
      "metadata": {
        "id": "CHoSDqJOyU20"
      },
      "execution_count": null,
      "outputs": []
    },
    {
      "cell_type": "code",
      "source": [
        "# finding median for agent\n",
        "df['agent'].median()"
      ],
      "metadata": {
        "id": "8o6GD5Lw2iNo"
      },
      "execution_count": null,
      "outputs": []
    },
    {
      "cell_type": "code",
      "source": [
        "# filling missing values with median\n",
        "df['agent'].fillna(df['agent'].median() , inplace = True)"
      ],
      "metadata": {
        "id": "O1W3VeNJzCYF"
      },
      "execution_count": null,
      "outputs": []
    },
    {
      "cell_type": "code",
      "source": [
        "# similarly checking for children and company"
      ],
      "metadata": {
        "id": "PJohiYNezdQN"
      },
      "execution_count": null,
      "outputs": []
    },
    {
      "cell_type": "code",
      "source": [
        "print(df['children'].skew())\n",
        "print(df['company'].skew())"
      ],
      "metadata": {
        "id": "0m3aqxX6zhv5"
      },
      "execution_count": null,
      "outputs": []
    },
    {
      "cell_type": "code",
      "source": [
        "fig , ax = plt.subplots(1,2 , figsize = (15,8))\n",
        "ax = ax.flatten()\n",
        "sns.histplot(df , x = 'children' , bins = 5, ax = ax[0] ,kde = True)\n",
        "sns.histplot(df , x = 'company' , bins = 5, ax = ax[1] ,kde = True)\n",
        "plt.tight_layout()\n",
        "plt.show()"
      ],
      "metadata": {
        "id": "_KzFAJyZzpQ6"
      },
      "execution_count": null,
      "outputs": []
    },
    {
      "cell_type": "markdown",
      "source": [
        "Children is right skewed, So we will go with median. In the company graph and the skewness measure it is rightly skewed but not extremely. Here we can consider both mean and median but still Median will be a better option."
      ],
      "metadata": {
        "id": "o8RLlQtr0MzM"
      }
    },
    {
      "cell_type": "code",
      "source": [
        "# finding median for children\n",
        "df['children'].median()"
      ],
      "metadata": {
        "id": "031ShVQKz_En"
      },
      "execution_count": null,
      "outputs": []
    },
    {
      "cell_type": "code",
      "source": [
        "# filling missing values with median\n",
        "df['children'].fillna(df['children'].median() , inplace = True)"
      ],
      "metadata": {
        "id": "hXOqDazz2AqB"
      },
      "execution_count": null,
      "outputs": []
    },
    {
      "cell_type": "code",
      "source": [
        "# finding median for children\n",
        "df['company'].median()"
      ],
      "metadata": {
        "id": "sd-ays732TE4"
      },
      "execution_count": null,
      "outputs": []
    },
    {
      "cell_type": "code",
      "source": [
        "# filling missing values with mean\n",
        "df['company'].fillna(df['company'].median() , inplace = True)"
      ],
      "metadata": {
        "id": "7HOnU1co0WNk"
      },
      "execution_count": null,
      "outputs": []
    },
    {
      "cell_type": "markdown",
      "source": [
        "Now taking up the **country** column as the data type for it was object\n"
      ],
      "metadata": {
        "id": "uae_rX2o2s9Z"
      }
    },
    {
      "cell_type": "code",
      "source": [
        "# Missing values in a object data type is always filled with the mode of the data\n",
        "# finding the mode of the data\n",
        "df['country'].mode()"
      ],
      "metadata": {
        "id": "dAbf31zy21Yr"
      },
      "execution_count": null,
      "outputs": []
    },
    {
      "cell_type": "code",
      "source": [
        "# replacing the missing values with the mode\n",
        "df['country'].fillna('PRT' , inplace  = True)"
      ],
      "metadata": {
        "id": "h8vzeGFM3KZX"
      },
      "execution_count": null,
      "outputs": []
    },
    {
      "cell_type": "markdown",
      "source": [
        "**Checking and changing Data Types**"
      ],
      "metadata": {
        "id": "ZUoa5n3Q3wZx"
      }
    },
    {
      "cell_type": "code",
      "source": [
        "# reservation_status_date is given in string format we will convert it in date and time format\n",
        "df['res_status_date'] = pd.to_datetime(df['reservation_status_date'], format='%Y-%m-%d')\n"
      ],
      "metadata": {
        "id": "wPLs1tzF6kmQ"
      },
      "execution_count": null,
      "outputs": []
    },
    {
      "cell_type": "code",
      "source": [
        "# dropping the reservation_status_date column\n",
        "df_hidden = df.drop('reservation_status_date', axis=1 , inplace = True)"
      ],
      "metadata": {
        "id": "jXzSIhen83xZ"
      },
      "execution_count": null,
      "outputs": []
    },
    {
      "cell_type": "code",
      "source": [
        "\n",
        "df['date_of_arr'] = df['arrival_date_day_of_month'].astype(str) + ' ' + df['arrival_date_month'] + ' ' + df['arrival_date_year'].astype(str)\n",
        "\n",
        "df['date_of_arrival'] = pd.to_datetime(df['date_of_arr'], format='%d %B %Y')\n"
      ],
      "metadata": {
        "id": "4DxqdH4U-DQT"
      },
      "execution_count": null,
      "outputs": []
    },
    {
      "cell_type": "code",
      "source": [
        "# dropping the object column for dat_of_arr\n",
        "df_hidden1 = df.drop('date_of_arr', axis=1 , inplace = True)"
      ],
      "metadata": {
        "id": "fE2ha4sQ_JpO"
      },
      "execution_count": null,
      "outputs": []
    },
    {
      "cell_type": "markdown",
      "source": [
        "## Manipulations\n"
      ],
      "metadata": {
        "id": "8t9aT4PeCK7l"
      }
    },
    {
      "cell_type": "code",
      "source": [
        "#finding the monthly booking made in each month\n",
        "count = df['arrival_date_month'].value_counts()\n",
        "count.sort_values()"
      ],
      "metadata": {
        "id": "c81Nv9UJCVlb"
      },
      "execution_count": null,
      "outputs": []
    },
    {
      "cell_type": "code",
      "source": [
        "# finding the average revenue generated per month for three years\n",
        "df.groupby(['arrival_date_month'])['adr'].sum().sort_values(ascending = False)"
      ],
      "metadata": {
        "id": "4fV5gMj9Fzmv"
      },
      "execution_count": null,
      "outputs": []
    },
    {
      "cell_type": "code",
      "source": [
        "# finding the revenue generated by each type of hotel\n",
        "df.groupby(['hotel'])['adr'].sum().sort_values()"
      ],
      "metadata": {
        "id": "FLNVLkACP-bG"
      },
      "execution_count": null,
      "outputs": []
    },
    {
      "cell_type": "code",
      "source": [
        "df.describe(include= ['object'])"
      ],
      "metadata": {
        "id": "gFbuR6XdQsYC"
      },
      "execution_count": null,
      "outputs": []
    },
    {
      "cell_type": "code",
      "source": [
        "# avergae days to check in date wrt booking date\n",
        "df['lead_time'].astype('float64').mean()"
      ],
      "metadata": {
        "id": "ytkS9-Z8H3_M"
      },
      "execution_count": null,
      "outputs": []
    },
    {
      "cell_type": "code",
      "source": [
        "# finding sum of adr and average of lead time wrt deposit type and reservation status\n",
        "df.groupby(['deposit_type' , 'reservation_status']).agg({'adr' : 'sum' , 'lead_time' : 'mean' })"
      ],
      "metadata": {
        "id": "KK_sZ0yaKGCB"
      },
      "execution_count": null,
      "outputs": []
    },
    {
      "cell_type": "code",
      "source": [
        "# reserved_room_type assigned_room_type\n",
        "df.groupby(['assigned_room_type']).agg({'adr' : 'sum' })"
      ],
      "metadata": {
        "id": "H8aDJEw7SypY"
      },
      "execution_count": null,
      "outputs": []
    },
    {
      "cell_type": "code",
      "source": [
        "#average of week nights\n",
        "df['stays_in_week_nights'].astype('float64').mean()"
      ],
      "metadata": {
        "id": "Kk1k5QwFVz_n"
      },
      "execution_count": null,
      "outputs": []
    },
    {
      "cell_type": "code",
      "source": [
        "#average of weekend nights\n",
        "df['stays_in_weekend_nights'].astype('float64').mean()"
      ],
      "metadata": {
        "id": "uQbQ4XZsX7Tc"
      },
      "execution_count": null,
      "outputs": []
    },
    {
      "cell_type": "code",
      "source": [
        "df.groupby(['hotel' , 'customer_type'])['adr'].sum()"
      ],
      "metadata": {
        "id": "k_oSzEHIYblw"
      },
      "execution_count": null,
      "outputs": []
    },
    {
      "cell_type": "code",
      "source": [
        "# general breif of categorical columns\n",
        "df.describe(include = 'object')"
      ],
      "metadata": {
        "id": "YmuvlgqNbJAm"
      },
      "execution_count": null,
      "outputs": []
    },
    {
      "cell_type": "code",
      "source": [
        "# customer preference for booking\n",
        "df.groupby(['distribution_channel'])['adr'].sum().sort_values()"
      ],
      "metadata": {
        "id": "V0dwYg_1awZi"
      },
      "execution_count": null,
      "outputs": []
    },
    {
      "cell_type": "code",
      "source": [
        "df['assigned_room_type'].value_counts().sort_values(ascending = False)"
      ],
      "metadata": {
        "id": "8jhLbbjkdEyw"
      },
      "execution_count": null,
      "outputs": []
    },
    {
      "cell_type": "code",
      "source": [
        "#finding country with maximum revenue\n",
        "df.groupby(['country' , 'reserved_room_type'])['adr'].sum().sort_values(ascending = False)\n"
      ],
      "metadata": {
        "id": "KMuiraiGdVRG"
      },
      "execution_count": null,
      "outputs": []
    },
    {
      "cell_type": "markdown",
      "source": [
        "### What all manipulations have you done and insights you found?"
      ],
      "metadata": {
        "id": "MSa1f5Uengrz"
      }
    },
    {
      "cell_type": "markdown",
      "source": [
        "As per my understanding travelling has been everyone's favorite and main part of travelling is booking a place to stay. Booking.com is a market leader in hotels and resorts booking , so to evaluate their buisness model and to find out better ways to boost up i took up this project.\n",
        "\n",
        "**Booking as per month**\n",
        "\n",
        "August has seen highest reservation and has created highest revenue and january the lowest. Season and weather might be a big reason for this but if we reduce our rates more in the off season and increase them in peak season we can match the equilibrium and can have full occupancy in off season too.\n",
        "\n",
        "**Category wise Analysis**\n",
        "\n",
        "City hotels has been in demand mostly due to their proximity to markets and better connectivity , giving about more than 65% of the revenue. Resort hotels should be with in the proximity of good roads and with other options too explore too , which will help in generating more revenue in them. As well as BB has been the most liked option in both categories so if we can add one more hour to the timings of breakfast people would be rejoiced.\n",
        "\n",
        "**Cancellations**\n",
        "\n",
        "As per my study a lot of customers like to book with any deposit and make their booking a lot before thier actual date of arrival. As per above data where the lead time is more than 100 days the cancellations have been huge , if the platform does not allow bookings having lead time more than 90 days without deposit revenue will get a surge and occupancy will increase. This will also show the rooms to the customers booking at the last moment giving out best rates.\n",
        "\n",
        "** Weekdays vs Weekends**\n",
        "\n",
        "As per the data average weekdays nights a person books in 2.5 and the avergae for weekends take a dip to 0.92. This huge difference is due the difference in fare of weekdays and weekends. we should increase rates in weekdays to a point where the difference between weekdays and weekends is such where people tend to give more importance to the weekend than the fare of room.\n",
        "\n",
        "**Booking window preference**\n",
        "\n",
        "People tend to depend more on Travel Agent and Tour Operators as they give out complete package and complete itenary, leaving the customers to enjoy the days. If the platform provides well curated holiday packages and tours at better rates and better services the booking preference will change.\n",
        "\n",
        "**Category of rooms booked**\n",
        "A , D category rooms have been in demand through out the year and at some times customers after making reservations for these category have been assigned other category rooms. if more rooms are added to this category and some rooms of category H to L are reduced this could make a significant change in the revenue collection and customer satisfaction.\n",
        "\n",
        "**Guest Demographics**\n",
        "\n",
        "PRT has been the country whose residents have made the highest booking and generated the highest revenue. Their preference category of room is A and never booked for category P.\n"
      ],
      "metadata": {
        "id": "LbyXE7I1olp8"
      }
    },
    {
      "cell_type": "code",
      "source": [],
      "metadata": {
        "id": "JCd3FgBMQcHA"
      },
      "execution_count": null,
      "outputs": []
    },
    {
      "cell_type": "markdown",
      "source": [
        "# ***4. Data Vizualization, Storytelling & Experimenting with charts : Understand the relationships between variables***"
      ],
      "metadata": {
        "id": "GF8Ens_Soomf"
      }
    },
    {
      "cell_type": "markdown",
      "source": [
        "#### Chart - 1 Count plot by  Hotel category"
      ],
      "metadata": {
        "id": "0wOQAZs5pc--"
      }
    },
    {
      "cell_type": "code",
      "source": [
        "sns.countplot(df , x = 'hotel' , color = 'Magenta'). # taking x axis as hotel from dataset df and color as magenta\n",
        "plt.title('Count plot by  Hotel category').  # gives the titile of the chart\n",
        "plt.show()"
      ],
      "metadata": {
        "id": "olD7xFbbv5yZ"
      },
      "execution_count": null,
      "outputs": []
    },
    {
      "cell_type": "markdown",
      "source": [
        "##### 1. Why did you pick the specific chart?"
      ],
      "metadata": {
        "id": "K5QZ13OEpz2H"
      }
    },
    {
      "cell_type": "markdown",
      "source": [
        "A countplot chart count the frequency of each determiner in the data. It's easy to explain the percentage comparison through different bars with different colors."
      ],
      "metadata": {
        "id": "XESiWehPqBRc"
      }
    },
    {
      "cell_type": "markdown",
      "source": [
        "##### 2. What is/are the insight(s) found from the chart?"
      ],
      "metadata": {
        "id": "lQ7QKXXCp7Bj"
      }
    },
    {
      "cell_type": "markdown",
      "source": [
        "Here we can clearly see that city hotel has been booked 80000 times whereas resort hotel has been booked 40000 times that 100% less than city hotel."
      ],
      "metadata": {
        "id": "C_j1G7yiqdRP"
      }
    },
    {
      "cell_type": "markdown",
      "source": [
        "##### 3. Will the gained insights help creating a positive business impact?\n",
        "By this chart buisness can focus more on resort hotels and try to lower the difference between city and resort hotels.\n"
      ],
      "metadata": {
        "id": "448CDAPjqfQr"
      }
    },
    {
      "cell_type": "markdown",
      "source": [],
      "metadata": {
        "id": "3cspy4FjqxJW"
      }
    },
    {
      "cell_type": "markdown",
      "source": [
        "#### Chart - 2 Line chart wrt to date and ADR"
      ],
      "metadata": {
        "id": "KSlN3yHqYklG"
      }
    },
    {
      "cell_type": "code",
      "source": [
        "#extracting month from the date column for line chart\n",
        "df['month'] = df['res_status_date'].dt.month"
      ],
      "metadata": {
        "id": "WOmhH2H-2Lqz"
      },
      "execution_count": null,
      "outputs": []
    },
    {
      "cell_type": "code",
      "source": [
        "# Chart - 2 visualization code\n",
        "#Line chart wrt to date and adr\n",
        "sns.lineplot(df , x = 'month' , y = 'adr'  , color = 'purple' )\n",
        "plt.title('Line chart wrt to date and ADR')\n",
        "plt.show()"
      ],
      "metadata": {
        "id": "R4YgtaqtYklH"
      },
      "execution_count": null,
      "outputs": []
    },
    {
      "cell_type": "markdown",
      "source": [
        "##### 1. Why did you pick the specific chart?"
      ],
      "metadata": {
        "id": "t6dVpIINYklI"
      }
    },
    {
      "cell_type": "markdown",
      "source": [
        "This chart dictates the relation between revenue and months. The graph easily describes the postion of revenue collected in each month.\n"
      ],
      "metadata": {
        "id": "5aaW0BYyYklI"
      }
    },
    {
      "cell_type": "markdown",
      "source": [
        "##### 2. What is/are the insight(s) found from the chart?"
      ],
      "metadata": {
        "id": "ijmpgYnKYklI"
      }
    },
    {
      "cell_type": "markdown",
      "source": [
        "As clearly seen there is a clear spike in the graph during the mid year during july , aug ,sep and large down fall at the end and start of the year.\n"
      ],
      "metadata": {
        "id": "PSx9atu2YklI"
      }
    },
    {
      "cell_type": "markdown",
      "source": [
        "##### 3. Will the gained insights help creating a positive business impact?\n",
        "Negative growth during the winters is due to seasonal changes and people tend to travel more in autumn season. the above insights can help if the buisness when the graph is low give some attractive discounts and packages which are not available during the peak season to attract customers."
      ],
      "metadata": {
        "id": "-JiQyfWJYklI"
      }
    },
    {
      "cell_type": "markdown",
      "source": [
        "#### Chart - 3 Box plot for lead time"
      ],
      "metadata": {
        "id": "EM7whBJCYoAo"
      }
    },
    {
      "cell_type": "code",
      "source": [
        "# Chart - 3 visualization code\n",
        "#box plot for lead time to find the outliers\n",
        "plt.figure(figsize = (35,12) )\n",
        "sns.boxplot(df , x = 'lead_time' , vert = False , color='turquoise', linewidth=2)\n",
        "plt.title('Box plot for lead time')\n",
        "plt.show()"
      ],
      "metadata": {
        "id": "t6GMdE67YoAp"
      },
      "execution_count": null,
      "outputs": []
    },
    {
      "cell_type": "markdown",
      "source": [
        "##### 1. Why did you pick the specific chart?"
      ],
      "metadata": {
        "id": "fge-S5ZAYoAp"
      }
    },
    {
      "cell_type": "markdown",
      "source": [
        "Box plot provide a concise summary of the data distribution, showcasing the median, quartiles, and potential outliers. This makes it easy to see the center of the data and its variability."
      ],
      "metadata": {
        "id": "5dBItgRVYoAp"
      }
    },
    {
      "cell_type": "markdown",
      "source": [
        "##### 2. What is/are the insight(s) found from the chart?"
      ],
      "metadata": {
        "id": "85gYPyotYoAp"
      }
    },
    {
      "cell_type": "markdown",
      "source": [
        "In this particular chart we can see the minimum value is 0 while the maximum value is around 380 , leaving aside the outliers.\n",
        "**IQR** for the following graph is **Q3** - **Q1** i.e around 160 - 10 = **150**\n",
        "**Median** of the following data is around 70.\n",
        "\n",
        "The graph is also **positively** **skewed**.\n"
      ],
      "metadata": {
        "id": "4jstXR6OYoAp"
      }
    },
    {
      "cell_type": "markdown",
      "source": [
        "##### 3. Will the gained insights help creating a positive business impact?\n",
        "Are there any insights that lead to negative growth? Justify with specific reason."
      ],
      "metadata": {
        "id": "RoGjAbkUYoAp"
      }
    },
    {
      "cell_type": "markdown",
      "source": [
        "From the gained insights we can clearly see that the average time a person makes a booking is 70 days. Some people make bookings more than 365 days or 1 year before the date of arrival making it hard to depict the rates prevailing at that time and afterall the buisness losses revenue.\n",
        "Bookings having lead time more than 90 days should be non refundalble bookings as if the room is booked and there is cancellation or no show the hotel looses the revenue as well as many potential customers as the room was occupied on the platform.\n"
      ],
      "metadata": {
        "id": "zfJ8IqMcYoAp"
      }
    },
    {
      "cell_type": "markdown",
      "source": [
        "#### Chart - 4 Scatter plot showing Total of Special Requests vs. ADR"
      ],
      "metadata": {
        "id": "4Of9eVA-YrdM"
      }
    },
    {
      "cell_type": "code",
      "source": [
        "# Chart - 4 visualization code\n",
        "# Scatter plot showing Total of Special Requests vs. ADR:\n",
        "plt.figure(figsize = (8 , 8))\n",
        "sns.scatterplot(df ,x =  'total_of_special_requests' , y = 'adr')\n",
        "plt.title('Total of Special Requests vs. ADR')\n",
        "plt.show()"
      ],
      "metadata": {
        "id": "irlUoxc8YrdO"
      },
      "execution_count": null,
      "outputs": []
    },
    {
      "cell_type": "markdown",
      "source": [
        "##### 1. Why did you pick the specific chart?"
      ],
      "metadata": {
        "id": "iky9q4vBYrdO"
      }
    },
    {
      "cell_type": "markdown",
      "source": [
        "To check if guests who make more special requests are willing to pay more (higher ADR)."
      ],
      "metadata": {
        "id": "aJRCwT6DYrdO"
      }
    },
    {
      "cell_type": "markdown",
      "source": [
        "##### 2. What is/are the insight(s) found from the chart?"
      ],
      "metadata": {
        "id": "F6T5p64dYrdO"
      }
    },
    {
      "cell_type": "markdown",
      "source": [
        "As seen from the graph guests making 1 or more special requests are paying more for there special requests."
      ],
      "metadata": {
        "id": "Xx8WAJvtYrdO"
      }
    },
    {
      "cell_type": "markdown",
      "source": [
        "##### 3. Will the gained insights help creating a positive business impact?\n",
        "Are there any insights that lead to negative growth? Justify with specific reason."
      ],
      "metadata": {
        "id": "y-Ehk30pYrdP"
      }
    },
    {
      "cell_type": "markdown",
      "source": [
        "By the insights we can charge accordingly as per the special request of the guest and this subsequently help in increasing the revenue of the hotel as well as providing better services to the guests."
      ],
      "metadata": {
        "id": "jLNxxz7MYrdP"
      }
    },
    {
      "cell_type": "markdown",
      "source": [
        "#### Chart - 5 Average daily revenue by Market Segment"
      ],
      "metadata": {
        "id": "bamQiAODYuh1"
      }
    },
    {
      "cell_type": "code",
      "source": [
        "# Chart - 5 visualization code\n",
        "# Average daily revenue by Market Segment\n",
        "plt.figure(figsize= (12 , 5))\n",
        "sns.barplot(df , x = 'market_segment' , y = 'adr' , color = 'green')\n",
        "plt.title('Average daily revenue by Market Segment')\n",
        "plt.show()"
      ],
      "metadata": {
        "id": "TIJwrbroYuh3"
      },
      "execution_count": null,
      "outputs": []
    },
    {
      "cell_type": "markdown",
      "source": [
        "##### 1. Why did you pick the specific chart?"
      ],
      "metadata": {
        "id": "QHF8YVU7Yuh3"
      }
    },
    {
      "cell_type": "markdown",
      "source": [
        "Bar charts offer clear visual distinctions between categories. The length of each bar corresponds to the value it represents, which allows viewers to quickly understand relative sizes and compare them directly ."
      ],
      "metadata": {
        "id": "dcxuIMRPYuh3"
      }
    },
    {
      "cell_type": "markdown",
      "source": [
        "##### 2. What is/are the insight(s) found from the chart?"
      ],
      "metadata": {
        "id": "GwzvFGzlYuh3"
      }
    },
    {
      "cell_type": "markdown",
      "source": [
        "Identify the market segments yield higher average daily rates.\n",
        "and adjust pricing strategies based on market segment performance.\n",
        "this also helped in allocating marketing resources effectively by focusing on high-ADR segments."
      ],
      "metadata": {
        "id": "uyqkiB8YYuh3"
      }
    },
    {
      "cell_type": "markdown",
      "source": [
        "##### 3. Will the gained insights help creating a positive business impact?\n",
        "Are there any insights that lead to negative growth? Justify with specific reason."
      ],
      "metadata": {
        "id": "qYpmQ266Yuh3"
      }
    },
    {
      "cell_type": "markdown",
      "source": [
        "The insights derived from analyzing market segments and ADR can drive strategic actions that will enhance revenue, improve customer satisfaction, and promote growth. By leveraging data effectively, hotels can create a more favorable business environment that leads to sustained success."
      ],
      "metadata": {
        "id": "_WtzZ_hCYuh4"
      }
    },
    {
      "cell_type": "markdown",
      "source": [
        "#### Chart - 6 Pie chart for meal disection"
      ],
      "metadata": {
        "id": "OH-pJp9IphqM"
      }
    },
    {
      "cell_type": "code",
      "source": [
        "# Chart - 6 visualization code\n",
        "# pie chart for meal disection\n",
        "meal_counts = df['meal'].value_counts()\n",
        "plt.figure(figsize=(8, 6))\n",
        "plt.pie(meal_counts, labels=meal_counts.index, autopct='%1.1f%%')\n",
        "plt.title('Distribution of Meal Plans')\n",
        "plt.axis('equal')\n",
        "plt.show()"
      ],
      "metadata": {
        "id": "kuRf4wtuphqN"
      },
      "execution_count": null,
      "outputs": []
    },
    {
      "cell_type": "markdown",
      "source": [
        "##### 1. Why did you pick the specific chart?"
      ],
      "metadata": {
        "id": "bbFf2-_FphqN"
      }
    },
    {
      "cell_type": "markdown",
      "source": [
        "A pie chart expresses a part-to-whole relationship in our data. It's easy to explain the percentage comparison through area covered in a circle with different colors. Where differenet percentage comparison comes into action pie chart is used frequently. So, I used Pie chart and which helped me to get the percentage comparision of the dependant variable.\n",
        "\n"
      ],
      "metadata": {
        "id": "loh7H2nzphqN"
      }
    },
    {
      "cell_type": "markdown",
      "source": [
        "##### 2. What is/are the insight(s) found from the chart?"
      ],
      "metadata": {
        "id": "_ouA3fa0phqN"
      }
    },
    {
      "cell_type": "markdown",
      "source": [
        "From the above pie chart we can clearly see that most of the guests prefer to have breakfast included in their booking.\n",
        "\n",
        " Similarly FB opting guests are very less but FB generates higher revenue.\n",
        "\n",
        " we can curate promotional offers to promote plans other than BB to get more revenue and provide guests a unique dining experience.\n",
        ""
      ],
      "metadata": {
        "id": "VECbqPI7phqN"
      }
    },
    {
      "cell_type": "markdown",
      "source": [
        "##### 3. Will the gained insights help creating a positive business impact?\n",
        "Are there any insights that lead to negative growth? Justify with specific reason."
      ],
      "metadata": {
        "id": "Seke61FWphqN"
      }
    },
    {
      "cell_type": "markdown",
      "source": [
        "Insights will sure help in getting more guests to opt for FB or HB if proper and attractive promotional offers are launched. Guests will have more options to choose from rather than just sticking to BB.\n"
      ],
      "metadata": {
        "id": "DW4_bGpfphqN"
      }
    },
    {
      "cell_type": "markdown",
      "source": [
        "#### Chart - 7 Pie chart for deposit type"
      ],
      "metadata": {
        "id": "PIIx-8_IphqN"
      }
    },
    {
      "cell_type": "code",
      "source": [
        "# Chart - 7 visualization code\n",
        "# pie chart for deposit type\n",
        "deposit_tp = df['deposit_type'].value_counts()\n",
        "plt.figure(figsize=(8, 6))\n",
        "plt.pie(deposit_tp, labels=deposit_tp.index, autopct='%0.1f%%')\n",
        "plt.title('Types of payment at the time of booking')\n",
        "plt.axis('equal')\n",
        "plt.show()"
      ],
      "metadata": {
        "id": "lqAIGUfyphqO"
      },
      "execution_count": null,
      "outputs": []
    },
    {
      "cell_type": "markdown",
      "source": [
        "##### 1. Why did you pick the specific chart?"
      ],
      "metadata": {
        "id": "t27r6nlMphqO"
      }
    },
    {
      "cell_type": "markdown",
      "source": [
        "A pie chart expresses a part-to-whole relationship in our data. It's easy to explain the percentage comparison through area covered in a circle with different colors. Where differenet percentage comparison comes into action pie chart is used frequently. So, I used Pie chart and which helped me to get the percentage comparision of the dependant variable."
      ],
      "metadata": {
        "id": "iv6ro40sphqO"
      }
    },
    {
      "cell_type": "markdown",
      "source": [
        "##### 2. What is/are the insight(s) found from the chart?"
      ],
      "metadata": {
        "id": "r2jJGEOYphqO"
      }
    },
    {
      "cell_type": "markdown",
      "source": [
        "As we can see from the chart 87.6% guests prefer to book with no deposit which means the guests are not certain about their programme and not willing to take risk.\n",
        "\n",
        "If any deposit type is underrepresented, hotels might consider promotional strategies to encourage that option. For example, offering discounts or incentives for Non-Refundable bookings could increase their share in the pie chart, benefiting the hotel's revenue.\n",
        "\n"
      ],
      "metadata": {
        "id": "Po6ZPi4hphqO"
      }
    },
    {
      "cell_type": "markdown",
      "source": [
        "##### 3. Will the gained insights help creating a positive business impact?\n",
        "Are there any insights that lead to negative growth? Justify with specific reason."
      ],
      "metadata": {
        "id": "b0JNsNcRphqO"
      }
    },
    {
      "cell_type": "markdown",
      "source": [
        "The insights will create a positive impact as if we promote the other deposit type other than no deposit overall revenue will increase and occupancy will increase too.\n",
        "\n",
        "**Negative**\n",
        "\n",
        "The first insight has a negative effect to the buisness as when guests choose the option of no deposit they might cancel thier programme last minute or switch to a last min deal of any other hotel which is loss of the hotel.\n",
        "Also when the deposit type is no deposit hotel cant properly plan for the meals and services prior to check in."
      ],
      "metadata": {
        "id": "xvSq8iUTphqO"
      }
    },
    {
      "cell_type": "markdown",
      "source": [
        "#### Chart - 8 Violin Plot"
      ],
      "metadata": {
        "id": "BZR9WyysphqO"
      }
    },
    {
      "cell_type": "code",
      "source": [
        "# Chart - 8 visualization code\n",
        "#Violin Plot\n",
        "sns.violinplot(data=df, x='hotel', y='lead_time')\n",
        "plt.title('Lead Time Distribution by Hotel Type')\n",
        "plt.show()"
      ],
      "metadata": {
        "id": "TdPTWpAVphqO"
      },
      "execution_count": null,
      "outputs": []
    },
    {
      "cell_type": "markdown",
      "source": [
        "##### 1. Why did you pick the specific chart?"
      ],
      "metadata": {
        "id": "jj7wYXLtphqO"
      }
    },
    {
      "cell_type": "markdown",
      "source": [
        "To show the distribution of lead times for different hotel types, highlighting both the distribution shape and density."
      ],
      "metadata": {
        "id": "Ob8u6rCTphqO"
      }
    },
    {
      "cell_type": "markdown",
      "source": [
        "##### 2. What is/are the insight(s) found from the chart?"
      ],
      "metadata": {
        "id": "eZrbJ2SmphqO"
      }
    },
    {
      "cell_type": "markdown",
      "source": [
        "* We might observe differences in how far in advance guests book their stays.\n",
        "* This insight can help hotel tailor their marketing strategies based on customer booking behaviors."
      ],
      "metadata": {
        "id": "mZtgC_hjphqO"
      }
    },
    {
      "cell_type": "markdown",
      "source": [
        "##### 3. Will the gained insights help creating a positive business impact?\n",
        "Are there any insights that lead to negative growth? Justify with specific reason."
      ],
      "metadata": {
        "id": "rFu4xreNphqO"
      }
    },
    {
      "cell_type": "markdown",
      "source": [
        "Insights from the chart helps in understanding booking behaviors but also helps hotels to make data-driven decisions that enhance revenue, improve customer satisfaction, and streamline operations. By implementing strategies based on these insights, hotels can create a competitive advantage in the market.\n",
        "\n"
      ],
      "metadata": {
        "id": "ey_0qi68phqO"
      }
    },
    {
      "cell_type": "markdown",
      "source": [
        "#### Chart - 9 Cancellations by Market Segment"
      ],
      "metadata": {
        "id": "YJ55k-q6phqO"
      }
    },
    {
      "cell_type": "code",
      "source": [
        "#  Cancellations by Market Segment visualization chart\n",
        "sns.countplot(df , x='market_segment', hue='is_canceled')\n",
        "plt.title('Cancellations by Market Segment')\n",
        "plt.xticks(rotation=45)\n",
        "plt.show()"
      ],
      "metadata": {
        "id": "B2aS4O1ophqO"
      },
      "execution_count": null,
      "outputs": []
    },
    {
      "cell_type": "markdown",
      "source": [
        "##### 1. Why did you pick the specific chart?"
      ],
      "metadata": {
        "id": "gCFgpxoyphqP"
      }
    },
    {
      "cell_type": "markdown",
      "source": [
        "A count chart is useful for visualizing the frequency or count of categorical data. It helps to quickly understand the distribution of a category or the occurrence of events in a dataset."
      ],
      "metadata": {
        "id": "TVxDimi2phqP"
      }
    },
    {
      "cell_type": "markdown",
      "source": [
        "##### 2. What is/are the insight(s) found from the chart?"
      ],
      "metadata": {
        "id": "OVtJsKN_phqQ"
      }
    },
    {
      "cell_type": "markdown",
      "source": [
        "It helps to identify which market segments (e.g., Direct, Corporate, Travel Agencies) have the highest cancellation rates can help target retention strategies."
      ],
      "metadata": {
        "id": "ngGi97qjphqQ"
      }
    },
    {
      "cell_type": "markdown",
      "source": [
        "##### 3. Will the gained insights help creating a positive business impact?\n",
        "Are there any insights that lead to negative growth? Justify with specific reason."
      ],
      "metadata": {
        "id": "lssrdh5qphqQ"
      }
    },
    {
      "cell_type": "markdown",
      "source": [
        "by monitering the insight and the chart we can strategise to have less cancellations and more occuoancy leading to overall growth of buisness.\n"
      ],
      "metadata": {
        "id": "tBpY5ekJphqQ"
      }
    },
    {
      "cell_type": "markdown",
      "source": [
        "#### Chart - 10 Average Daily Rate (ADR) by Room Type"
      ],
      "metadata": {
        "id": "U2RJ9gkRphqQ"
      }
    },
    {
      "cell_type": "code",
      "source": [
        "# Average Daily Rate (ADR) by Room Type visualization chart\n",
        "sns.barplot(x='reserved_room_type', y='adr', data=df)\n",
        "plt.title('ADR by Reserved Room Type')\n",
        "plt.show()"
      ],
      "metadata": {
        "id": "GM7a4YP4phqQ"
      },
      "execution_count": null,
      "outputs": []
    },
    {
      "cell_type": "markdown",
      "source": [
        "##### 1. Why did you pick the specific chart?"
      ],
      "metadata": {
        "id": "1M8mcRywphqQ"
      }
    },
    {
      "cell_type": "markdown",
      "source": [
        "\n",
        "Bar charts show the frequency counts of values for the different levels of a categorical or nominal variable. Sometimes, bar charts show other statistics, such as percentages.\n"
      ],
      "metadata": {
        "id": "8agQvks0phqQ"
      }
    },
    {
      "cell_type": "markdown",
      "source": [
        "##### 2. What is/are the insight(s) found from the chart?"
      ],
      "metadata": {
        "id": "tgIPom80phqQ"
      }
    },
    {
      "cell_type": "markdown",
      "source": [
        "Visualizing the ADR for different room types can help identify which room categories generate the highest revenue."
      ],
      "metadata": {
        "id": "Qp13pnNzphqQ"
      }
    },
    {
      "cell_type": "markdown",
      "source": [
        "##### 3. Will the gained insights help creating a positive business impact?\n",
        "Are there any insights that lead to negative growth? Justify with specific reason."
      ],
      "metadata": {
        "id": "JMzcOPDDphqR"
      }
    },
    {
      "cell_type": "markdown",
      "source": [
        "hotels can improve revenue management, enhance guest experiences, and implement targeted marketing—all of which contribute to business growth."
      ],
      "metadata": {
        "id": "R4Ka1PC2phqR"
      }
    },
    {
      "cell_type": "markdown",
      "source": [
        "#### Chart - 11 - Correlation Heatmap"
      ],
      "metadata": {
        "id": "NC_X3p0fY2L0"
      }
    },
    {
      "cell_type": "code",
      "source": [
        "# Correlation Heatmap visualization code\n",
        "plt.figure(figsize = (20,6))\n",
        "sns.heatmap(num_col.corr() , annot = True)\n",
        "plt.title('Correlation Heatmap')\n",
        "plt.show()\n"
      ],
      "metadata": {
        "id": "xyC9zolEZNRQ"
      },
      "execution_count": null,
      "outputs": []
    },
    {
      "cell_type": "markdown",
      "source": [
        "##### 1. Why did you pick the specific chart?"
      ],
      "metadata": {
        "id": "UV0SzAkaZNRQ"
      }
    },
    {
      "cell_type": "markdown",
      "source": [
        "A correlation matrix is a table showing correlation coefficients between variables. Each cell in the table shows the correlation between two variables. A correlation matrix is used to summarize data, as an input into a more advanced analysis, and as a diagnostic for advanced analyses. The range of correlation is [-1,1].\n",
        "\n",
        "Thus to know the correlation between all the variables along with the correlation coeficients, i used correlation heatmap."
      ],
      "metadata": {
        "id": "DVPuT8LYZNRQ"
      }
    },
    {
      "cell_type": "markdown",
      "source": [
        "##### 2. What is/are the insight(s) found from the chart?"
      ],
      "metadata": {
        "id": "YPEH6qLeZNRQ"
      }
    },
    {
      "cell_type": "markdown",
      "source": [
        "*  Aslead_time and is_canceled show a positive correlation, it suggests that bookings made far in advance have a higher likelihood of being canceled. This should encourage hotels to adopt different cancellation policies based on how far in advance a booking is made.\n",
        "\n",
        "* As total_of_special_requests correlates positively with adr, guests making more special requests may also be spending more on their bookings. Hotels could capitalize on this by offering premium services or additional upselling options to guests making special requests."
      ],
      "metadata": {
        "id": "bfSqtnDqZNRR"
      }
    },
    {
      "cell_type": "markdown",
      "source": [
        "#### Chart - 12 - Pair Plot"
      ],
      "metadata": {
        "id": "q29F0dvdveiT"
      }
    },
    {
      "cell_type": "code",
      "source": [
        "# Pair Plot visualization code\n",
        "sns.pairplot(df[['lead_time', 'adr', 'total_of_special_requests']], diag_kind='kde')\n",
        "plt.title('Pair Plot of Lead Time, ADR, and Special Requests')\n",
        "plt.show()"
      ],
      "metadata": {
        "id": "o58-TEIhveiU"
      },
      "execution_count": null,
      "outputs": []
    },
    {
      "cell_type": "markdown",
      "source": [
        "##### 1. Why did you pick the specific chart?"
      ],
      "metadata": {
        "id": "EXh0U9oCveiU"
      }
    },
    {
      "cell_type": "markdown",
      "source": [
        "To visualize relationships and distributions among multiple numerical variables in the dataset."
      ],
      "metadata": {
        "id": "eMmPjTByveiU"
      }
    },
    {
      "cell_type": "markdown",
      "source": [
        "##### 2. What is/are the insight(s) found from the chart?"
      ],
      "metadata": {
        "id": "22aHeOlLveiV"
      }
    },
    {
      "cell_type": "markdown",
      "source": [
        "Pair plot is used to understand the best set of features to explain a relationship between two variables or to form the most separated clusters. It also helps to form some simple classification models by drawing some simple lines or make linear separation in our data-set.\n",
        "\n",
        "Thus, I used pair plot to analyse the patterns of data and realationship between the features. It's exactly same as the correlation map but here you will get the graphical representation"
      ],
      "metadata": {
        "id": "uPQ8RGwHveiV"
      }
    },
    {
      "cell_type": "markdown",
      "source": [
        "## **5. Solution to Business Objective**"
      ],
      "metadata": {
        "id": "JcMwzZxoAimU"
      }
    },
    {
      "cell_type": "markdown",
      "source": [
        "#### What do you suggest the client to achieve Business Objective ?\n",
        "Explain Briefly."
      ],
      "metadata": {
        "id": "8G2x9gOozGDZ"
      }
    },
    {
      "cell_type": "markdown",
      "source": [
        "Answer Here."
      ],
      "metadata": {
        "id": "pASKb0qOza21"
      }
    },
    {
      "cell_type": "markdown",
      "source": [
        "# **Conclusion**"
      ],
      "metadata": {
        "id": "gCX9965dhzqZ"
      }
    },
    {
      "cell_type": "markdown",
      "source": [
        "\n",
        "**Booking Lead Time:** The majority of bookings are made several weeks in advance, especially for peak seasons, suggesting that early booking discounts or promotions could attract more customers.\n",
        "\n",
        "**Market Segment Analysis:** Different booking channels (e.g., Travel Agents (TA/TO), Corporate bookings, etc.) show varying booking patterns, highlighting the need to tailor marketing strategies to specific segments.\n",
        "\n",
        "**Cancellations and Rebooking:** A high cancellation rate indicates a potential area for improvement, such as by introducing more flexible booking options or cancellation insurance to mitigate revenue loss.\n",
        "\n",
        "**Impact of Previous Cancellations:** Repeat guests with past cancellations often show different booking behavior, implying that tailored retention strategies (e.g., loyalty programs) can enhance guest loyalty.\n",
        "\n",
        "**Strategic Implications:**\n",
        "\n",
        "\n",
        "**Revenue Optimization:** Dynamic pricing based on room type, lead time, and market segment can drive revenue growth.\n",
        "\n",
        "**Operational Efficiency:** Insights from EDA can help streamline operations by adjusting inventory, pricing, and promotions according to customer demand and booking patterns.\n",
        "\n",
        "**Improved Customer Experience:** Tailoring services and marketing to customer preferences (e.g., family bookings, meal plans, room type upgrades) can improve guest satisfaction and loyalty.\n"
      ],
      "metadata": {
        "id": "Fjb1IsQkh3yE"
      }
    },
    {
      "cell_type": "markdown",
      "source": [
        "### ***Hurrah! You have successfully completed your EDA Capstone Project !!!***"
      ],
      "metadata": {
        "id": "gIfDvo9L0UH2"
      }
    }
  ]
}